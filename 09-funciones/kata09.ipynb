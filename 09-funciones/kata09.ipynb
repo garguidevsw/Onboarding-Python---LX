{
 "cells": [
  {
   "cell_type": "markdown",
   "metadata": {},
   "source": [
    "## Ejercicio 1: Trabajar con argumentos en funciones"
   ]
  },
  {
   "cell_type": "code",
   "execution_count": 3,
   "metadata": {},
   "outputs": [],
   "source": [
    "def tanques(tanque1, tanque2, tanque3):\n",
    "    return f\"\"\"Informe de tanques:\n",
    "    Tanque1: {tanque1},\n",
    "    Tanque2: {tanque2},\n",
    "    Tanque3: {tanque3},\n",
    "\n",
    "    Promedio: {(tanque1+tanque2+tanque3)/3}\n",
    "    \"\"\""
   ]
  },
  {
   "cell_type": "code",
   "execution_count": 4,
   "metadata": {},
   "outputs": [
    {
     "name": "stdout",
     "output_type": "stream",
     "text": [
      "Informe de tanques:\n",
      "    Tanque1: 50,\n",
      "    Tanque2: 30,\n",
      "    Tanque3: 20,\n",
      "\n",
      "    Promedio: 33.333333333333336\n",
      "    \n"
     ]
    }
   ],
   "source": [
    "print(tanques(50,30,20))"
   ]
  },
  {
   "cell_type": "code",
   "execution_count": 5,
   "metadata": {},
   "outputs": [
    {
     "name": "stdout",
     "output_type": "stream",
     "text": [
      "Informe de tanques:\n",
      "    Tank1: 100,\n",
      "    Tank2: 150,\n",
      "    Tank3: 250,\n",
      "\n",
      "    Promedio: 166.66666666666666\n",
      "    \n"
     ]
    }
   ],
   "source": [
    "def avg_tanks(tank1, tank2, tank3):\n",
    "    return (tank1+tank2+tank3)/3\n",
    "\n",
    "def tanks(tank1, tank2, tank3):\n",
    "    avg = avg_tanks(tank1, tank2, tank3)\n",
    "    \n",
    "    return f\"\"\"Informe de tanques:\n",
    "    Tank1: {tank1},\n",
    "    Tank2: {tank2},\n",
    "    Tank3: {tank3},\n",
    "\n",
    "    Promedio: {avg}\n",
    "    \"\"\"\n",
    "\n",
    "print(tanks(100, 150, 250))"
   ]
  },
  {
   "cell_type": "markdown",
   "metadata": {},
   "source": [
    "## Ejercicio 2: Trabajo con argumentos de palabra clave"
   ]
  },
  {
   "cell_type": "code",
   "execution_count": 8,
   "metadata": {},
   "outputs": [
    {
     "name": "stdout",
     "output_type": "stream",
     "text": [
      "Informe de cohete\n",
      "    Destino: moon\n",
      "    Tiempo total: 15\n",
      "    Tanques: 5300\n",
      "    \n"
     ]
    }
   ],
   "source": [
    "def cohete(launch_time, fligth_time, destination, tank_int, tank_ext):\n",
    "    return f\"\"\"Informe de cohete\n",
    "    Destino: {destination}\n",
    "    Tiempo total: {launch_time + fligth_time}\n",
    "    Tanques: {tank_int + tank_ext}\n",
    "    \"\"\"\n",
    "\n",
    "print(cohete(10, 5, 'moon', 300, 5000))"
   ]
  },
  {
   "cell_type": "code",
   "execution_count": 11,
   "metadata": {},
   "outputs": [
    {
     "name": "stdout",
     "output_type": "stream",
     "text": [
      "\n",
      "    Destino: moon\n",
      "    Tiempo total: 300\n",
      "    Tanques: 52000\n",
      "    \n"
     ]
    }
   ],
   "source": [
    "def reporte(destination, *time, **tanks):\n",
    "    return f\"\"\"\n",
    "    Destino: {destination}\n",
    "    Tiempo total: {sum(time)}\n",
    "    Tanques: {sum(tanks.values())}\n",
    "    \"\"\"\n",
    "\n",
    "print(reporte('moon', 100, 200, tank1=2000, tank2=50000))"
   ]
  },
  {
   "cell_type": "code",
   "execution_count": 13,
   "metadata": {},
   "outputs": [
    {
     "name": "stdout",
     "output_type": "stream",
     "text": [
      "\n",
      "    Destino: moon\n",
      "    Tiempo total: 300\n",
      "    Tanques: 52000\n",
      "    tank1 = 2000 | tank2 = 50000 | \n"
     ]
    }
   ],
   "source": [
    "def final_report(destination, *time, **tanks):\n",
    "    output = f\"\"\"\n",
    "    Destino: {destination}\n",
    "    Tiempo total: {sum(time)}\n",
    "    Tanques: {sum(tanks.values())}\n",
    "    \"\"\"\n",
    "    for title, value in tanks.items():\n",
    "        output += f\"{title} = {value} | \"\n",
    "    \n",
    "    return output\n",
    "\n",
    "\n",
    "print(final_report('moon', 100, 200, tank1=2000, tank2=50000))\n"
   ]
  }
 ],
 "metadata": {
  "interpreter": {
   "hash": "41cfdba390e3e2d3fa4bd55babf1f99ea3b9348873312c8fce3fa61a07e54fee"
  },
  "kernelspec": {
   "display_name": "Python 3.10.2 64-bit",
   "language": "python",
   "name": "python3"
  },
  "language_info": {
   "codemirror_mode": {
    "name": "ipython",
    "version": 3
   },
   "file_extension": ".py",
   "mimetype": "text/x-python",
   "name": "python",
   "nbconvert_exporter": "python",
   "pygments_lexer": "ipython3",
   "version": "3.10.2"
  },
  "orig_nbformat": 4
 },
 "nbformat": 4,
 "nbformat_minor": 2
}
